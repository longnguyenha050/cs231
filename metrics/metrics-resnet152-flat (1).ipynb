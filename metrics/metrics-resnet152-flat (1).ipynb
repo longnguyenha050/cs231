{
 "cells": [
  {
   "cell_type": "code",
   "execution_count": 2,
   "metadata": {
    "execution": {
     "iopub.execute_input": "2024-12-14T15:02:42.524744Z",
     "iopub.status.busy": "2024-12-14T15:02:42.524322Z",
     "iopub.status.idle": "2024-12-14T15:02:42.532682Z",
     "shell.execute_reply": "2024-12-14T15:02:42.531338Z",
     "shell.execute_reply.started": "2024-12-14T15:02:42.524700Z"
    },
    "trusted": true
   },
   "outputs": [],
   "source": [
    "# Hàm chuyển đổi chuỗi thành danh sách dựa trên khoảng trắng\n",
    "def split_by_space(value):\n",
    "    if pd.isna(value):\n",
    "        return []\n",
    "    return value.split()\n",
    "\n",
    "\n",
    "# Hàm lấy top_k ảnh cho một ảnh query\n",
    "def get_top_k_results(df, query_image, k):\n",
    "    submission_row = df[df['id'] == query_image]\n",
    "    if not submission_row.empty:\n",
    "        top_k_results = submission_row.iloc[0]['images'][:k]\n",
    "        return top_k_results\n",
    "    return []\n",
    "\n",
    "# Hàm tính Recall@k\n",
    "def calculate_recall_at_k(top_k_results, query_image, total_relevant):\n",
    "    if total_relevant == 0:\n",
    "        return 0\n",
    "    relevant_images = set(ground_truth_mapping.get(query_image, []))\n",
    "    retrieved_relevant = len(relevant_images.intersection(top_k_results))\n",
    "    return retrieved_relevant / total_relevant"
   ]
  },
  {
   "cell_type": "code",
   "execution_count": 3,
   "metadata": {
    "execution": {
     "iopub.execute_input": "2024-12-14T15:02:46.337775Z",
     "iopub.status.busy": "2024-12-14T15:02:46.337398Z",
     "iopub.status.idle": "2024-12-14T15:02:47.210046Z",
     "shell.execute_reply": "2024-12-14T15:02:47.208880Z",
     "shell.execute_reply.started": "2024-12-14T15:02:46.337740Z"
    },
    "trusted": true
   },
   "outputs": [],
   "source": [
    "import pandas as pd\n",
    "\n",
    "# Đọc dữ liệu từ file ground_truth.csv và test_submission_Resnet152_IVF.csv\n",
    "ground_truth_path = '/kaggle/input/deepfashion1/ground_truth.csv'\n",
    "test_submission_path = '/kaggle/input/deepfashion1/test_submission_Resnet152_Flat.csv'\n",
    "\n",
    "ground_truth_df = pd.read_csv(ground_truth_path)\n",
    "test_submission_df = pd.read_csv(test_submission_path)\n",
    "\n",
    "# Chuẩn hóa cột 'relevant_images' trong ground_truth_df\n",
    "ground_truth_df['relevant_images'] = ground_truth_df['relevant_images'].apply(split_by_space)\n",
    "\n",
    "# Tạo từ điển ground_truth từ ground_truth.csv\n",
    "ground_truth_mapping = {\n",
    "    row['query']: row['relevant_images']\n",
    "    for _, row in ground_truth_df.iterrows()\n",
    "}\n",
    "\n",
    "# Chuẩn hóa cột 'images' trong test_submission_df\n",
    "test_submission_df['images'] = test_submission_df['images'].apply(split_by_space)"
   ]
  },
  {
   "cell_type": "code",
   "execution_count": 4,
   "metadata": {
    "execution": {
     "iopub.execute_input": "2024-12-14T15:02:52.078419Z",
     "iopub.status.busy": "2024-12-14T15:02:52.078041Z",
     "iopub.status.idle": "2024-12-14T15:02:52.461859Z",
     "shell.execute_reply": "2024-12-14T15:02:52.460701Z",
     "shell.execute_reply.started": "2024-12-14T15:02:52.078384Z"
    },
    "trusted": true
   },
   "outputs": [],
   "source": [
    "# Biến lưu tổng Recall@k và số lượng query\n",
    "num_queries = 0\n",
    "total_recall_at_k_1 = 0\n",
    "total_recall_at_k_5 = 0\n",
    "total_recall_at_k_10 = 0\n",
    "total_recall_at_k_50 = 0\n",
    "\n",
    "# Duyệt qua từng ảnh query trong ground_truth_df\n",
    "for query_image in ground_truth_df['query']:\n",
    "    # Kiểm tra nếu query_image có trong cột 'id' của test_submission_df\n",
    "    if query_image not in test_submission_df['id'].values:\n",
    "        continue\n",
    "\n",
    "    total_relevant = len(ground_truth_mapping.get(query_image, []))\n",
    "\n",
    "    # Lấy top_k_results cho từng giá trị k\n",
    "    top_k_results_1 = get_top_k_results(test_submission_df, query_image, 1)\n",
    "    top_k_results_5 = get_top_k_results(test_submission_df, query_image, 5)\n",
    "    top_k_results_10 = get_top_k_results(test_submission_df, query_image, 10)\n",
    "    top_k_results_50 = get_top_k_results(test_submission_df, query_image, 50)\n",
    "\n",
    "    # Tính Recall@k\n",
    "    recall_at_k_1 = calculate_recall_at_k(top_k_results_1, query_image, total_relevant)\n",
    "    recall_at_k_5 = calculate_recall_at_k(top_k_results_5, query_image, total_relevant)\n",
    "    recall_at_k_10 = calculate_recall_at_k(top_k_results_10, query_image, total_relevant)\n",
    "    recall_at_k_50 = calculate_recall_at_k(top_k_results_50, query_image, total_relevant)\n",
    "\n",
    "    # Cộng dồn Recall@k\n",
    "    total_recall_at_k_1 += recall_at_k_1\n",
    "    total_recall_at_k_5 += recall_at_k_5\n",
    "    total_recall_at_k_10 += recall_at_k_10\n",
    "    total_recall_at_k_50 += recall_at_k_50\n",
    "\n",
    "    num_queries += 1"
   ]
  },
  {
   "cell_type": "code",
   "execution_count": 5,
   "metadata": {
    "execution": {
     "iopub.execute_input": "2024-12-14T15:02:55.945239Z",
     "iopub.status.busy": "2024-12-14T15:02:55.944855Z",
     "iopub.status.idle": "2024-12-14T15:02:55.952473Z",
     "shell.execute_reply": "2024-12-14T15:02:55.951351Z",
     "shell.execute_reply.started": "2024-12-14T15:02:55.945203Z"
    },
    "trusted": true
   },
   "outputs": [
    {
     "name": "stdout",
     "output_type": "stream",
     "text": [
      "Recall@1 trung bình: 0.2365\n",
      "Recall@5 trung bình: 0.4492\n",
      "Recall@10 trung bình: 0.5026\n",
      "Recall@50 trung bình: 0.5026\n"
     ]
    }
   ],
   "source": [
    "# Tính Recall@k trung bình\n",
    "if num_queries > 0:\n",
    "    average_recall_at_k_1 = total_recall_at_k_1 / num_queries\n",
    "    average_recall_at_k_5 = total_recall_at_k_5 / num_queries\n",
    "    average_recall_at_k_10 = total_recall_at_k_10 / num_queries\n",
    "    average_recall_at_k_50 = total_recall_at_k_50 / num_queries\n",
    "\n",
    "    print(f\"Recall@1 trung bình: {average_recall_at_k_1:.4f}\")\n",
    "    print(f\"Recall@5 trung bình: {average_recall_at_k_5:.4f}\")\n",
    "    print(f\"Recall@10 trung bình: {average_recall_at_k_10:.4f}\")\n",
    "    print(f\"Recall@50 trung bình: {average_recall_at_k_50:.4f}\")\n",
    "else:\n",
    "    print(\"Không có ảnh query có ảnh liên quan để tính Recall.\")"
   ]
  }
 ],
 "metadata": {
  "kaggle": {
   "accelerator": "none",
   "dataSources": [
    {
     "datasetId": 6242968,
     "sourceId": 10197723,
     "sourceType": "datasetVersion"
    }
   ],
   "dockerImageVersionId": 30804,
   "isGpuEnabled": false,
   "isInternetEnabled": true,
   "language": "python",
   "sourceType": "notebook"
  },
  "kernelspec": {
   "display_name": "Python 3",
   "language": "python",
   "name": "python3"
  },
  "language_info": {
   "codemirror_mode": {
    "name": "ipython",
    "version": 3
   },
   "file_extension": ".py",
   "mimetype": "text/x-python",
   "name": "python",
   "nbconvert_exporter": "python",
   "pygments_lexer": "ipython3",
   "version": "3.10.14"
  }
 },
 "nbformat": 4,
 "nbformat_minor": 4
}
